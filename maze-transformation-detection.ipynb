{
 "cells": [
  {
   "cell_type": "code",
   "execution_count": 1,
   "id": "a1e18bf0",
   "metadata": {
    "_cell_guid": "b1076dfc-b9ad-4769-8c92-a6c4dae69d19",
    "_uuid": "8f2839f25d086af736a60e9eeb907d3b93b6e0e5",
    "execution": {
     "iopub.execute_input": "2024-06-05T03:27:28.409303Z",
     "iopub.status.busy": "2024-06-05T03:27:28.408862Z",
     "iopub.status.idle": "2024-06-05T03:27:47.316401Z",
     "shell.execute_reply": "2024-06-05T03:27:47.315021Z"
    },
    "papermill": {
     "duration": 18.915459,
     "end_time": "2024-06-05T03:27:47.319357",
     "exception": false,
     "start_time": "2024-06-05T03:27:28.403898",
     "status": "completed"
    },
    "tags": []
   },
   "outputs": [
    {
     "name": "stdout",
     "output_type": "stream",
     "text": [
      "\u001b[31mERROR: pip's dependency resolver does not currently take into account all the packages that are installed. This behaviour is the source of the following dependency conflicts.\r\n",
      "apache-beam 2.46.0 requires dill<0.3.2,>=0.3.1.1, but you have dill 0.3.8 which is incompatible.\r\n",
      "apache-beam 2.46.0 requires numpy<1.25.0,>=1.14.3, but you have numpy 1.26.4 which is incompatible.\r\n",
      "apache-beam 2.46.0 requires pyarrow<10.0.0,>=3.0.0, but you have pyarrow 16.1.0 which is incompatible.\u001b[0m\u001b[31m\r\n",
      "\u001b[0m"
     ]
    }
   ],
   "source": [
    "!pip install -Uqq fastai duckduckgo_search"
   ]
  },
  {
   "cell_type": "markdown",
   "id": "e3429f07",
   "metadata": {
    "papermill": {
     "duration": 0.002513,
     "end_time": "2024-06-05T03:27:47.325023",
     "exception": false,
     "start_time": "2024-06-05T03:27:47.322510",
     "status": "completed"
    },
    "tags": []
   },
   "source": [
    "The goal of this notebook is to replicate the process done during the FastAI cource to perform image recognition.  We will be evaluating whether or not we can train a model to detect if an image of a maze has been distorted to some effect. "
   ]
  },
  {
   "cell_type": "code",
   "execution_count": 2,
   "id": "2acb5878",
   "metadata": {
    "execution": {
     "iopub.execute_input": "2024-06-05T03:27:47.332780Z",
     "iopub.status.busy": "2024-06-05T03:27:47.332377Z",
     "iopub.status.idle": "2024-06-05T03:27:47.458194Z",
     "shell.execute_reply": "2024-06-05T03:27:47.456539Z"
    },
    "papermill": {
     "duration": 0.13335,
     "end_time": "2024-06-05T03:27:47.461244",
     "exception": false,
     "start_time": "2024-06-05T03:27:47.327894",
     "status": "completed"
    },
    "tags": []
   },
   "outputs": [],
   "source": [
    "from fastcore.all import *\n",
    "\n",
    "from duckduckgo_search import DDGS\n",
    "\n",
    "def search_images(keywords, max_images=30):\n",
    "    print(f\"Searching for {keywords}\")\n",
    "    return L(DDGS().images(keywords,max_results=max_images)).itemgot('image')"
   ]
  },
  {
   "cell_type": "code",
   "execution_count": 3,
   "id": "1cbe9276",
   "metadata": {
    "execution": {
     "iopub.execute_input": "2024-06-05T03:27:47.469628Z",
     "iopub.status.busy": "2024-06-05T03:27:47.468893Z",
     "iopub.status.idle": "2024-06-05T03:27:48.093461Z",
     "shell.execute_reply": "2024-06-05T03:27:48.092292Z"
    },
    "papermill": {
     "duration": 0.631641,
     "end_time": "2024-06-05T03:27:48.096088",
     "exception": false,
     "start_time": "2024-06-05T03:27:47.464447",
     "status": "completed"
    },
    "tags": []
   },
   "outputs": [
    {
     "name": "stdout",
     "output_type": "stream",
     "text": [
      "Searching for black and white maze\n"
     ]
    },
    {
     "data": {
      "text/plain": [
       "'https://as1.ftcdn.net/v2/jpg/00/59/83/92/1000_F_59839219_nl22lkka992gw7KYu46B5bk1wvT3ilpL.jpg'"
      ]
     },
     "execution_count": 3,
     "metadata": {},
     "output_type": "execute_result"
    }
   ],
   "source": [
    "urls = search_images('black and white maze', max_images=1)\n",
    "urls[0]"
   ]
  },
  {
   "cell_type": "markdown",
   "id": "41f6885d",
   "metadata": {
    "papermill": {
     "duration": 0.002965,
     "end_time": "2024-06-05T03:27:48.102325",
     "exception": false,
     "start_time": "2024-06-05T03:27:48.099360",
     "status": "completed"
    },
    "tags": []
   },
   "source": [
    "## Wandering off the beaten path\n",
    "Normally following the Is it a [Bird Tutorial,](https://www.kaggle.com/code/jhoward/is-it-a-bird-creating-a-model-from-your-own-data) we would now download an image of a forest. \n",
    "In this case however, we will be running random modifications to skew the images of the mazes.  The goal is to see if the model can detect visual abstractions to the dataset.  \n",
    "## Possible places to look at to develop this:\n",
    "- [OpenCV](https://docs.opencv.org/4.x/da/d6e/tutorial_py_geometric_transformations.html)\n",
    "- [Scikit-Image](https://scikit-image.org/)\n",
    "- In essence we would be applying randomized 3D Gradients to an image\n",
    "- [Gradients Wikipedia](https://en.wikipedia.org/wiki/Gradient)"
   ]
  }
 ],
 "metadata": {
  "kaggle": {
   "accelerator": "none",
   "dataSources": [],
   "dockerImageVersionId": 30732,
   "isGpuEnabled": false,
   "isInternetEnabled": true,
   "language": "python",
   "sourceType": "notebook"
  },
  "kernelspec": {
   "display_name": "Python 3",
   "language": "python",
   "name": "python3"
  },
  "language_info": {
   "codemirror_mode": {
    "name": "ipython",
    "version": 3
   },
   "file_extension": ".py",
   "mimetype": "text/x-python",
   "name": "python",
   "nbconvert_exporter": "python",
   "pygments_lexer": "ipython3",
   "version": "3.10.13"
  },
  "papermill": {
   "default_parameters": {},
   "duration": 23.326866,
   "end_time": "2024-06-05T03:27:48.528599",
   "environment_variables": {},
   "exception": null,
   "input_path": "__notebook__.ipynb",
   "output_path": "__notebook__.ipynb",
   "parameters": {},
   "start_time": "2024-06-05T03:27:25.201733",
   "version": "2.5.0"
  }
 },
 "nbformat": 4,
 "nbformat_minor": 5
}
